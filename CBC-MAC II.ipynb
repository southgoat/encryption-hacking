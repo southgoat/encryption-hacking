{
 "cells": [
  {
   "cell_type": "markdown",
   "metadata": {},
   "source": [
    "CBC-MAC with IV misconfigured to be non zero.  \n",
    " CBC ency IV has to be nonzero, but CBC-MAC often be zeros. \n",
    "see here https://www.youtube.com/watch?v=Ax91Cq5OIs4"
   ]
  },
  {
   "cell_type": "code",
   "execution_count": 64,
   "metadata": {},
   "outputs": [],
   "source": [
    "import base64\n",
    "import urllib\n",
    "\n",
    "iv = \"Xra%2FtTyfZLw%3D\"\n",
    "auth = \"YmRtaW5pc3RyYXRvci0t2nIfIAVn1vk%3D\"\n",
    "user = b\"bdministrator\"\n",
    "new_user = b\"administrator\" "
   ]
  },
  {
   "cell_type": "markdown",
   "metadata": {},
   "source": [
    "vuln: iv XOR p1 = new_iv XOR new_P1 \n",
    "exp: t_b = iv XOR p1, new_iv = t_b XOR new_P!\n",
    "    \n",
    "Meaning the output of the first XOR will be the same, the rest will make no difference."
   ]
  },
  {
   "cell_type": "code",
   "execution_count": 52,
   "metadata": {},
   "outputs": [
    {
     "data": {
      "text/plain": [
       "b'bdminist'"
      ]
     },
     "execution_count": 52,
     "metadata": {},
     "output_type": "execute_result"
    }
   ],
   "source": [
    "iv_bin = base64.b64decode(urllib.parse.unquote(iv))\n",
    "block_size = len(iv_bin)\n",
    "\n",
    "auth_bin = base64.b64decode(urllib.parse.unquote(auth))\n",
    "\n",
    "iv_bin[:block_size] \n",
    "auth_bin[:block_size]"
   ]
  },
  {
   "cell_type": "code",
   "execution_count": 67,
   "metadata": {},
   "outputs": [
    {
     "name": "stdout",
     "output_type": "stream",
     "text": [
      "XOR temp block (orginal msg)  b'<\\xd2\\xd2\\xdcR\\xf6\\x17\\xc8'\n",
      "XOR temp block (forged msg)   b'<\\xd2\\xd2\\xdcR\\xf6\\x17\\xc8'\n",
      "Xba/tTyfZLw%3D\n",
      "YWRtaW5pc3RyYXRvci0t2nIfIAVn1vk%3D\n"
     ]
    }
   ],
   "source": [
    "def xor(a, b): # xor two bytes obj\n",
    "  return bytes([x ^ y for (x, y) in zip(a, b)])\n",
    "\n",
    "temp_block = xor(iv_bin[:block_size] , auth_bin[:block_size])\n",
    "new_iv = xor(temp_block,new_user[:block_size])\n",
    "# to verify see this\n",
    "print(\"XOR temp block (orginal msg) \", xor(iv_bin[:block_size] , auth_bin[:block_size]))\n",
    "print(\"XOR temp block (forged msg)  \", xor(new_iv, new_user))\n",
    "\n",
    "print( urllib.parse.quote(base64.b64encode(new_iv).decode('utf-8')))\n",
    "print( urllib.parse.quote(base64.b64encode(new_user[:8]+auth_bin[8:]).decode('utf-8')))\n",
    "\n",
    "\n",
    "\n"
   ]
  },
  {
   "cell_type": "code",
   "execution_count": null,
   "metadata": {},
   "outputs": [],
   "source": []
  }
 ],
 "metadata": {
  "interpreter": {
   "hash": "7ef50c42ec7acd4aec108610b63070bbab0d3331bd5c1f88cd09365785d9baaa"
  },
  "kernelspec": {
   "display_name": "Python 3.8.2 64-bit",
   "language": "python",
   "name": "python3"
  },
  "language_info": {
   "codemirror_mode": {
    "name": "ipython",
    "version": 3
   },
   "file_extension": ".py",
   "mimetype": "text/x-python",
   "name": "python",
   "nbconvert_exporter": "python",
   "pygments_lexer": "ipython3",
   "version": "3.8.2"
  },
  "orig_nbformat": 4
 },
 "nbformat": 4,
 "nbformat_minor": 2
}
